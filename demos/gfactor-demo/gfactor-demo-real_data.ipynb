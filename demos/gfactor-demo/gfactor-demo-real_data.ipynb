{
 "cells": [
  {
   "cell_type": "markdown",
   "metadata": {},
   "source": [
    "## Example for computing parallel imaging g-factor using BART Python interface\n",
    "\n",
    "Author: Jon Tamir <jtamir@eecs.berkeley.edu>\n",
    "\n",
    "Data is taken from the ISMRM 2013 Sunrise Course on Parallel Imaging  \n",
    "http://hansenms.github.io/sunrise/sunrise2013/\n",
    "\n",
    "For more information, see the following papers:\n",
    "\n",
    "Kellman, P. and McVeigh, E. R. (2005), Image reconstruction in SNR units: A general method for SNR measurement. Magn. Reson. Med., 54: 1439-1447. doi:10.1002/mrm.20713\n",
    "\n",
    "Robson, P. M., Grant, A. K., Madhuranthakam, A. J., Lattanzi, R. , Sodickson, D. K. and McKenzie, C. A. (2008), Comprehensive quantification of signal‐to‐noise ratio and g‐factor for image‐based and k‐space‐based parallel imaging reconstructions. Magn. Reson. Med., 60: 895-907. doi:10.1002/mrm.21728\n"
   ]
  },
  {
   "cell_type": "markdown",
   "metadata": {},
   "source": [
    "### Requirements\n",
    "- Install bart (version 0.4.02 or newer): https://github.com/mrirecon/bart  \n",
    "- Add bart to PATH and PYTHONPATH in .bashrc:\n",
    "```bash\n",
    "export PATH=/path/to/bart:$PATH  \n",
    "export PYTHONPATH=/path/to/bart/python:$PYTHONPATH\n",
    "```\n",
    "- Install python dependencies:  \n",
    "`pip install h5py numpy matplotlib`"
   ]
  },
  {
   "cell_type": "code",
   "execution_count": null,
   "metadata": {},
   "outputs": [],
   "source": [
    "import numpy as np\n",
    "import h5py\n",
    "import time\n",
    "\n",
    "import cfl\n",
    "from bart import bart\n",
    "\n",
    "import matplotlib.pyplot as plt\n",
    "%matplotlib inline\n",
    "\n",
    "from pylab import rcParams\n",
    "rcParams['figure.figsize'] = 7, 7"
   ]
  },
  {
   "cell_type": "markdown",
   "metadata": {},
   "source": [
    "## Load data from hdf5 file\n",
    "The data is taken from http://hansenms.github.io/sunrise/sunrise2013/ and saved as an hdf5 file. The data are Cartesian k-space prospectively under-sampled with a 1x4 acceleration factor. The sensitivity maps were computed from a pre-scan"
   ]
  },
  {
   "cell_type": "code",
   "execution_count": null,
   "metadata": {},
   "outputs": [],
   "source": [
    "print('loading data')\n",
    "\n",
    "with h5py.File('data.h5', 'r') as F:\n",
    "    ksp = np.array(F['ksp'])\n",
    "    sens = np.array(F['sens'])\n",
    "    mask = np.array(F['mask'])\n",
    "    noise = np.array(F['noise'])\n",
    "    \n",
    "print('done!')\n",
    "print('ksp shape:', ksp.shape)\n",
    "nx, ny, nc = ksp.shape\n",
    "cimg = bart(1, 'fft -iu 3', ksp)\n",
    "\n",
    "plt.figure(figsize=(16,20))\n",
    "for i in range(nc):\n",
    "    plt.subplot(1, nc, i+1)\n",
    "    plt.imshow(abs(cimg[:,:,i]).squeeze(), cmap='gray')\n",
    "    plt.title('Coil image {}'.format(i))\n",
    "    \n",
    "\n",
    "plt.figure(figsize=(16,20))\n",
    "for i in range(nc):\n",
    "    plt.subplot(1, nc, i+1)\n",
    "    plt.imshow(abs(sens[:,:,i]).squeeze(), cmap='gray')\n",
    "    plt.title('Sensitivity map {}'.format(i))\n"
   ]
  },
  {
   "cell_type": "markdown",
   "metadata": {},
   "source": [
    "## Noise whitening\n",
    "Notice that some coil images have higher noise than others. We can estimate the noise covariance matrix from our noise measurements and apply a noise pre-whitening matrix. We need to apply it to both the data and the sensitivity maps"
   ]
  },
  {
   "cell_type": "code",
   "execution_count": null,
   "metadata": {},
   "outputs": [],
   "source": [
    "noise_flat = np.reshape(noise, (-1, nc))\n",
    "cov = np.dot(np.conj(noise_flat).T, noise_flat)\n",
    "\n",
    "\n",
    "noise_white = bart(1, 'whiten', noise_flat[:,None,None,:], noise_flat[:,None,None,:]).reshape((-1, nc))\n",
    "ksp_white = bart(1, 'whiten', ksp[:,:,None,:], noise_flat[:,None,None,:]).squeeze()\n",
    "sens_white = bart(1, 'whiten', sens[:,:,None,:], noise_flat[:,None,None,:]).squeeze()\n",
    "\n",
    "\n",
    "cov_white = np.dot(np.conj(noise_white).T, noise_white)\n",
    "\n",
    "plt.figure(figsize=(16,4))\n",
    "plt.subplot(1,2,1)\n",
    "plt.imshow(abs(cov.squeeze()))\n",
    "plt.title('Covariance matrix before pre-whitening')\n",
    "plt.subplot(1, 2, 2)\n",
    "plt.imshow(abs(cov_white.squeeze()))\n",
    "plt.title('Covariance matrix after pre-whitening')\n",
    "\n",
    "cimg_white = bart(1, 'fft -iu 3', ksp_white).squeeze()\n",
    "\n",
    "plt.figure(figsize=(16,20))\n",
    "for i in range(nc):\n",
    "    plt.subplot(1, nc, i+1)\n",
    "    plt.imshow(abs(cimg_white[:,:,i]).squeeze(), cmap='gray')\n",
    "    plt.title('Coil image {}'.format(i))\n",
    "    \n",
    "plt.figure(figsize=(16,20))\n",
    "for i in range(nc):\n",
    "    plt.subplot(1, nc, i+1)\n",
    "    plt.imshow(abs(sens_white[:,:,i]).squeeze(), cmap='gray')\n",
    "    plt.title('Sensitivity map {}'.format(i))"
   ]
  },
  {
   "cell_type": "markdown",
   "metadata": {},
   "source": [
    "## Visualize the sampling pattern"
   ]
  },
  {
   "cell_type": "code",
   "execution_count": null,
   "metadata": {},
   "outputs": [],
   "source": [
    "assert np.linalg.norm(mask - (np.linalg.norm(ksp, axis=2) != 0)) < 1E-5, 'mask does not match data!'\n",
    "    \n",
    "plt.figure(figsize=(4, 4))\n",
    "plt.imshow(mask, cmap='gray')\n",
    "plt.title('sampling pattern')\n",
    "\n",
    "R = np.prod(np.shape(mask)) / np.sum(mask)\n",
    "print('Acceleration factor: {}'. format(R))"
   ]
  },
  {
   "cell_type": "markdown",
   "metadata": {},
   "source": [
    "## Reconstruct the data before and after noise whitening"
   ]
  },
  {
   "cell_type": "code",
   "execution_count": null,
   "metadata": {},
   "outputs": [],
   "source": [
    "reco = bart(1, 'pics -S -i 150', ksp[:,:,None,:], sens[:,:,None,:])\n",
    "reco_white = bart(1, 'pics -S -i 30', ksp_white[:,:,None,:], sens_white[:,:,None,:])\n",
    "\n",
    "\n",
    "plt.figure(figsize=(16, 8))\n",
    "plt.subplot(1, 2, 1)\n",
    "plt.imshow(abs(reco).squeeze(), cmap='gray')\n",
    "plt.title('Reconstruction before noise whitening')\n",
    "\n",
    "plt.subplot(1, 2, 2)\n",
    "plt.imshow(abs(reco_white).squeeze(), cmap='gray')\n",
    "plt.title('Reconstruction after noise whitening')\n"
   ]
  },
  {
   "cell_type": "markdown",
   "metadata": {},
   "source": [
    "## Estimate G-factor\n",
    "In parallel imaging, noise is amplified in the reconstruction in a spatially-varying way that depends on the specific geometry of the coils. This is formalized with the g-factor.\n",
    "\n",
    "### Pseudo Multiple Replica Method\n",
    "We can estimate the g-factor through a Monte Carlo approach, where we perform many reconstructions on different instances of noise. As a side-benefit, we can also scale the reconstruction to SNR units.\n",
    "\n",
    "The setup is the following:\n",
    "1. Add noise to kspace and reconstruct. Repeat N_MC times\n",
    "2. Reconstruct noise without kspace and without under-sampling. Repeat N_MC times\n",
    "3. g_factor = std((1)) / (std((2)) * sqrt(R))\n",
    "\n",
    "We will use bart to perform the reconstructions\n"
   ]
  },
  {
   "cell_type": "markdown",
   "metadata": {},
   "source": [
    "## repeat reconstruction with N_MC noise instances"
   ]
  },
  {
   "cell_type": "code",
   "execution_count": null,
   "metadata": {
    "scrolled": true
   },
   "outputs": [],
   "source": [
    "n_mc = 30\n",
    "\n",
    "recons = np.zeros((nx, ny, n_mc), dtype=np.complex)\n",
    "\n",
    "tic = time.time()\n",
    "for i in range(n_mc):\n",
    "\n",
    "    ksp_noise = np.random.randn(*ksp.shape) + 1j*np.random.randn(*ksp.shape)\n",
    "    ksp_noise = mask[:,:,None] * (ksp_white + ksp_noise)\n",
    "    \n",
    "    recons[:,:,i] = bart(1, 'pics -S -i 100', ksp_noise[:,:,None,:], sens_white[:,:,None,:])\n",
    "    \n",
    "toc = time.time()\n",
    "\n",
    "print('Done ({} s)'.format(toc - tic))"
   ]
  },
  {
   "cell_type": "markdown",
   "metadata": {},
   "source": [
    "## repeat reconstruction with N_MC noise-only instances"
   ]
  },
  {
   "cell_type": "code",
   "execution_count": null,
   "metadata": {},
   "outputs": [],
   "source": [
    "recons_noise = np.zeros((nx, ny, n_mc), dtype=np.complex)\n",
    "\n",
    "tic = time.time()\n",
    "for i in range(n_mc):\n",
    "    \n",
    "    ksp_noise = np.random.randn(*ksp.shape) + 1j*np.random.randn(*ksp.shape)\n",
    "    recons_noise[:,:,i] = bart(1, 'pics -g -S -i 25', ksp_noise[:,:,None,:], sens_white[:,:,None,:])\n",
    "    \n",
    "toc = time.time()\n",
    "\n",
    "print('Done ({} s)'.format(toc - tic))"
   ]
  },
  {
   "cell_type": "markdown",
   "metadata": {},
   "source": [
    "## compute g-factor"
   ]
  },
  {
   "cell_type": "code",
   "execution_count": null,
   "metadata": {},
   "outputs": [],
   "source": [
    "recons_std = np.std(recons.real, axis=2)\n",
    "recon_noise_std = np.std(recons_noise, axis=2)\n",
    "\n",
    "gfactor = np.divide(recons_std, recon_noise_std, where=abs(recons[:,:,0].squeeze()) != 0) / np.sqrt(R)\n",
    "\n",
    "max_gf = np.max(gfactor)\n",
    "\n",
    "print('Max g-factor value: {}'.format(max_gf))\n",
    "\n",
    "\n",
    "plt.figure(figsize=(16, 8))\n",
    "plt.imshow(gfactor, vmax=max_gf)\n",
    "plt.title('Estimated g-factor')\n",
    "plt.colorbar()"
   ]
  }
 ],
 "metadata": {
  "kernelspec": {
   "display_name": "Python 3",
   "language": "python",
   "name": "python3"
  },
  "language_info": {
   "codemirror_mode": {
    "name": "ipython",
    "version": 3
   },
   "file_extension": ".py",
   "mimetype": "text/x-python",
   "name": "python",
   "nbconvert_exporter": "python",
   "pygments_lexer": "ipython3",
   "version": "3.6.2"
  }
 },
 "nbformat": 4,
 "nbformat_minor": 2
}
