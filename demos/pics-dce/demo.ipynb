{
 "cells": [
  {
   "cell_type": "markdown",
   "metadata": {},
   "source": [
    "# Dynamic Contrast Enhanced Image Reconstruction with BART"
   ]
  },
  {
   "cell_type": "code",
   "execution_count": 1,
   "metadata": {
    "collapsed": false
   },
   "outputs": [
    {
     "name": "stdout",
     "output_type": "stream",
     "text": []
    }
   ],
   "source": [
    "export PATH=${TOOLBOX_PATH}:${PATH}\n",
    "export DEBUG_LEVEL=1"
   ]
  },
  {
   "cell_type": "markdown",
   "metadata": {},
   "source": [
    "In this demo we will investigate prospectively under-sampled dynamic contrast enhanced (DCE) MRI data provided by [Tao\n",
    "Zhang](http://web.stanford.edu/~tzhang08/). \n",
    "\n",
    "Unzip the data and it will be placed under `data/`."
   ]
  },
  {
   "cell_type": "code",
   "execution_count": 7,
   "metadata": {
    "collapsed": false
   },
   "outputs": [
    {
     "name": "stdout",
     "output_type": "stream",
     "text": [
      "Archive:  data.zip\r\n",
      "   creating: data/\r\n",
      "  inflating: data/ksp.cfl            \r\n",
      "  inflating: data/ksp.hdr            \r\n",
      "  inflating: data/maps.cfl           \r\n",
      "  inflating: data/maps.hdr           \r\n",
      "  inflating: data/weights.cfl        \r\n",
      "  inflating: data/weights.hdr        \r\n"
     ]
    }
   ],
   "source": [
    "unzip data.zip"
   ]
  },
  {
   "cell_type": "markdown",
   "metadata": {},
   "source": [
    "The data consist of a single slice from under-sampled multi-channel, Cartesian k-space binned into temporal phases, as well as\n",
    "ESPIRiT sensitivity maps and sampling weights derived\n",
    "from navigator data. \n",
    "\n",
    "We will first look at the datasets. BART provides a simple multi-dimensional viewer `bartview.py` in python. We also have a more sophisticated viewer `view` in development available at:\n",
    "    https://github.com/mrirecon/view"
   ]
  },
  {
   "cell_type": "code",
   "execution_count": 8,
   "metadata": {
    "collapsed": false
   },
   "outputs": [
    {
     "name": "stdout",
     "output_type": "stream",
     "text": []
    }
   ],
   "source": [
    "view data/ksp\n",
    "bartview.py data/maps\n",
    "view data/weights"
   ]
  },
  {
   "cell_type": "markdown",
   "metadata": {},
   "source": [
    "We can see the dimensions using the `show` command:"
   ]
  },
  {
   "cell_type": "code",
   "execution_count": 9,
   "metadata": {
    "collapsed": false
   },
   "outputs": [
    {
     "name": "stdout",
     "output_type": "stream",
     "text": [
      "Type: complex float\r\n",
      "Dimensions: 16\r\n",
      "AoD:\t1\t68\t180\t20\t1\t1\t1\t1\t1\t1\t18\t1\t1\t1\t1\t1\r\n"
     ]
    }
   ],
   "source": [
    "bart show -m data/ksp"
   ]
  },
  {
   "cell_type": "markdown",
   "metadata": {},
   "source": [
    "The MRI-specific BART commands assume that the first three dimensions represent space/spatial k-space, the next two dimensions\n",
    "represent coils and ESPIRiT maps, and the 10th dimension (zero-indexing) represents temporal phases.\n",
    "We see the spatial dimensions are `1 X 68 x 180`, with 20 coils and 18 temporal phases."
   ]
  },
  {
   "cell_type": "markdown",
   "metadata": {},
   "source": [
    "To start, let's compute the sampling pattern and compare it to the k-space weighting mask.\n",
    "The weighting mask assigns each phase encode a weight between zero and one, depending on the amount of\n",
    "motion-corruption."
   ]
  },
  {
   "cell_type": "code",
   "execution_count": 14,
   "metadata": {
    "collapsed": false
   },
   "outputs": [
    {
     "name": "stdout",
     "output_type": "stream",
     "text": [
      "[1]+  Done                    view data/pat_weights_sum\r\n",
      "Type: complex float\r\n",
      "Dimensions: 16\r\n",
      "AoD:\t1\t136\t180\t1\t1\t1\t1\t1\t1\t1\t18\t1\t1\t1\t1\t1\r\n"
     ]
    }
   ],
   "source": [
    "bart pattern data/ksp data/pat # generate a sampling pattern from k-space\n",
    "bart join 1 data/pat data/weights data/pat_weights\n",
    "bart show -m data/pat_weights"
   ]
  },
  {
   "cell_type": "markdown",
   "metadata": {},
   "source": [
    "We can sum along the temporal dimension using the `fmac` (fused multiply accumulate) tool:"
   ]
  },
  {
   "cell_type": "code",
   "execution_count": 15,
   "metadata": {
    "collapsed": false
   },
   "outputs": [
    {
     "name": "stdout",
     "output_type": "stream",
     "text": [
      "Usage: fmac [-C] [-s d] <input1> <input2> <output>\r\n",
      "\r\n",
      "Multiply and accumulate.\r\n",
      "\r\n",
      "-C\t\tconjugate input2\r\n",
      "-s b      \tsquash dimensions selected by bitmask b\r\n",
      "-h\t\thelp\r\n"
     ]
    }
   ],
   "source": [
    "bart fmac -h"
   ]
  },
  {
   "cell_type": "markdown",
   "metadata": {},
   "source": [
    "The bitmask is used to specify the dimensions we want to sum over. We can quickly compute a bitmask using the `bitmask`\n",
    "tool:"
   ]
  },
  {
   "cell_type": "code",
   "execution_count": 16,
   "metadata": {
    "collapsed": false
   },
   "outputs": [
    {
     "name": "stdout",
     "output_type": "stream",
     "text": [
      "1024\r\n",
      "7\r\n"
     ]
    }
   ],
   "source": [
    "bart bitmask 10 # bitmask for the temporal dimensions\n",
    "bart bitmask 0 1 2 # bitmask for 3D spatial dimensions"
   ]
  },
  {
   "cell_type": "markdown",
   "metadata": {},
   "source": [
    "To sum over the temporal dimension, we create a BART file containing a single entry with value one, and sum over the\n",
    "10th dimension:"
   ]
  },
  {
   "cell_type": "code",
   "execution_count": 17,
   "metadata": {
    "collapsed": false
   },
   "outputs": [
    {
     "name": "stdout",
     "output_type": "stream",
     "text": [
      "[1] 52214\r\n"
     ]
    }
   ],
   "source": [
    "bart ones 1 1 o\n",
    "bart fmac -s $(bart bitmask 10) data/pat_weights o data/pat_weights_sum\n",
    "view data/pat_weights_sum & # visualize the result"
   ]
  },
  {
   "cell_type": "markdown",
   "metadata": {},
   "source": [
    "We will use the `pics` tool to perform ESPIRiT-based parallel imaging and compressed sensing. The basic usage is\n",
    "\n",
    "    bart pics [optimization options] [regularization options] kspace maps recon\n",
    "    \n",
    "See the full list with `bart pics -h` and `bart pics -Rh`.\n",
    "There are several built-in regularization terms and transforms. We can see the options by invoking the help:"
   ]
  },
  {
   "cell_type": "code",
   "execution_count": 21,
   "metadata": {
    "collapsed": false
   },
   "outputs": [
    {
     "name": "stdout",
     "output_type": "stream",
     "text": [
      "Usage: pics [-l ...] [-r f] [-c] [-s f] [-i d] [-t <string>] [-n] [-g] [-p <string>] [-b d] [-e] [-W <string>] [-d d] [-u f] [-C d] [-f f] [-m ...] [-w f] [-S] <kspace> <sensitivities> <output>\r\n",
      "\r\n",
      "Parallel-imaging compressed-sensing reconstruction.\r\n",
      "\r\n",
      "-l1/-l2\t\ttoggle l1-wavelet or l2 regularization.\r\n",
      "-r lambda      \tregularization parameter\r\n",
      "-c\t\treal-value constraint\r\n",
      "-s step      \titeration stepsize\r\n",
      "-i iter      \tmax. number of iterations\r\n",
      "-t file      \tk-space trajectory\r\n",
      "-n\t\tdisable random wavelet cycle spinning\r\n",
      "-g\t\tuse GPU\r\n",
      "-p file      \tpattern or weights\r\n",
      "-b blk      \tLowrank block size\r\n",
      "-e\t\tScale stepsize based on max. eigenvalue\r\n",
      "-W <img>      \tWarm start with <img>\r\n",
      "-d level      \tDebug level\r\n",
      "-u rho      \tADMM rho\r\n",
      "-C iter      \tADMM max. CG iterations\r\n",
      "-f rfov      \trestrict FOV\r\n",
      "-mSelect ADMM\r\n",
      "-w val      \tscaling\r\n",
      "-S\t\tRe-scale the image after reconstruction\r\n",
      "-h\t\thelp\r\n"
     ]
    }
   ],
   "source": [
    "bart pics -h"
   ]
  },
  {
   "cell_type": "code",
   "execution_count": 22,
   "metadata": {
    "collapsed": false
   },
   "outputs": [
    {
     "name": "stdout",
     "output_type": "stream",
     "text": [
      "Generalized regularization options (experimental)\r\n",
      "\r\n",
      "-R <T>:A:B:C\t<T> is regularization type (single letter),\r\n",
      "\t\tA is transform flags, B is joint threshold flags,\r\n",
      "\t\tand C is regularization value. Specify any number\r\n",
      "\t\tof regularization terms.\r\n",
      "\r\n",
      "-R Q:C    \tl2-norm in image domain\r\n",
      "-R I:B:C  \tl1-norm in image domain\r\n",
      "-R W:A:B:C\tl1-wavelet\r\n",
      "-R T:A:B:C\ttotal variation\r\n",
      "-R T:7:0:.01\t3D isotropic total variation with 0.01 regularization.\r\n",
      "-R L:7:7:.02\tLocally low rank with spatial decimation and 0.02 regularization.\r\n",
      "-R M:7:7:.03\tMulti-scale low rank with spatial decimation and 0.03 regularization.\r\n"
     ]
    }
   ],
   "source": [
    "bart pics -Rh"
   ]
  },
  {
   "cell_type": "markdown",
   "metadata": {},
   "source": [
    "## L1-wavelets in space and total variation in time."
   ]
  },
  {
   "cell_type": "markdown",
   "metadata": {},
   "source": [
    "Initialize the viewer with zero-filled reconstruction"
   ]
  },
  {
   "cell_type": "code",
   "execution_count": 25,
   "metadata": {
    "collapsed": false
   },
   "outputs": [
    {
     "name": "stdout",
     "output_type": "stream",
     "text": [
      "[1]+  Done                    view recon_wavtv\r\n",
      "[1] 52277\r\n"
     ]
    }
   ],
   "source": [
    "bart pics -i 1 data/ksp data/maps recon_wavtv\n",
    "view recon_wavtv&"
   ]
  },
  {
   "cell_type": "code",
   "execution_count": 26,
   "metadata": {
    "collapsed": false
   },
   "outputs": [
    {
     "name": "stdout",
     "output_type": "stream",
     "text": []
    }
   ],
   "source": [
    "bart pics   -i 100 \\\n",
    "            -p data/weights \\\n",
    "            -R W:$(bart bitmask 0 1 2):0:0.001 \\\n",
    "            -R T:$(bart bitmask 10):0:.04 \\\n",
    "            data/ksp data/maps recon_wavtv\n"
   ]
  },
  {
   "cell_type": "markdown",
   "metadata": {},
   "source": [
    "## Locally low rank (LLR)."
   ]
  },
  {
   "cell_type": "markdown",
   "metadata": {},
   "source": [
    "Initialize the viewer with zero-filled reconstruction"
   ]
  },
  {
   "cell_type": "code",
   "execution_count": 28,
   "metadata": {
    "collapsed": false
   },
   "outputs": [
    {
     "name": "stdout",
     "output_type": "stream",
     "text": [
      "[2] 52285\r\n"
     ]
    }
   ],
   "source": [
    "bart pics -i 1 data/ksp data/maps recon_llr\n",
    "view recon_llr&"
   ]
  },
  {
   "cell_type": "code",
   "execution_count": 31,
   "metadata": {
    "collapsed": false
   },
   "outputs": [
    {
     "name": "stdout",
     "output_type": "stream",
     "text": [
      "[3]+  Done                    view recon_compare\r\n"
     ]
    }
   ],
   "source": [
    "bart pics   -i 100 \\\n",
    "            -R L:$(bart bitmask 0 1 2):$(bart bitmask 0 1 2):0.01 \\\n",
    "            data/ksp data/maps recon_llr"
   ]
  },
  {
   "cell_type": "markdown",
   "metadata": {},
   "source": [
    "Combine the reconstructions and compare"
   ]
  },
  {
   "cell_type": "code",
   "execution_count": 32,
   "metadata": {
    "collapsed": false
   },
   "outputs": [
    {
     "name": "stdout",
     "output_type": "stream",
     "text": [
      "[3] 52298\r\n"
     ]
    }
   ],
   "source": [
    "bart join 1 recon_wavtv recon_llr recon_compare # combine the reconstructions\n",
    "view recon_compare &"
   ]
  }
 ],
 "metadata": {
  "kernelspec": {
   "display_name": "Bash",
   "language": "bash",
   "name": "bash"
  },
  "language_info": {
   "codemirror_mode": "shell",
   "file_extension": ".sh",
   "mimetype": "text/x-sh",
   "name": "bash"
  }
 },
 "nbformat": 4,
 "nbformat_minor": 0
}
