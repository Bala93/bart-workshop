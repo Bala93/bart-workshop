{
 "cells": [
  {
   "cell_type": "markdown",
   "metadata": {},
   "source": [
    "## ISMRM 2019 Demos\n",
    "\n",
    "Links to the ISMRM 2019 demos:  \n",
    "1. [Introduction to the BART command-line tools](demos/intro/intro.ipynb)\n",
    "1. [Compute g-factor using Python and BART](demos/gfactor-demo/gfactor-demo-real_data.ipynb)\n",
    "1. [Build a non-Cartesian SENSE reconstruction tool with the BART C API](demos/sense-recon/sense-recon.ipynb)\n",
    "\n",
    "\n"
   ]
  }
 ],
 "metadata": {
  "kernelspec": {
   "display_name": "Python 3",
   "language": "python",
   "name": "python3"
  },
  "language_info": {
   "codemirror_mode": {
    "name": "ipython",
    "version": 3
   },
   "file_extension": ".py",
   "mimetype": "text/x-python",
   "name": "python",
   "nbconvert_exporter": "python",
   "pygments_lexer": "ipython3",
   "version": "3.6.0"
  }
 },
 "nbformat": 4,
 "nbformat_minor": 2
}
