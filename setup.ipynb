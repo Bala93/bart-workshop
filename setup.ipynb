{
 "cells": [
  {
   "cell_type": "markdown",
   "metadata": {},
   "source": [
    "## ISMRM 2019 Demos\n",
    "\n",
    "Links to the ISMRM 2019 demos:  \n",
    "1. [Introduction to the BART command-line tools](demos/intro/intro.ipynb)\n",
    "1. [Compute g-factor using Python and BART](demos/gfactor-demo/gfactor-demo-real_data.ipynb)\n",
    "1. [Build a non-Cartesian SENSE reconstruction tool with the BART C API](demos/sense-recon/sense-recon.ipynb)\n",
    "\n",
    "\n",
    "## Setup for MyBinder\n",
    "\n",
    "**If you are running the demos through MyBinder, run this setup script first!**  \n",
    "This will install BART and other dependencies to the local directory."
   ]
  },
  {
   "cell_type": "code",
   "execution_count": 1,
   "metadata": {
    "scrolled": true
   },
   "outputs": [
    {
     "name": "stdout",
     "output_type": "stream",
     "text": [
      "#!/bin/bash\r\n",
      "\r\n",
      "pip install -r requirements.txt\r\n",
      "python -m bash_kernel.install\r\n",
      "wget https://github.com/mrirecon/bart/archive/v0.4.04.tar.gz\r\n",
      "tar -xvvf v0.4.04.tar.gz && mv bart-0.4.04 bart\r\n",
      "cd bart\r\n",
      "PARALLEL=1 make\r\n"
     ]
    }
   ],
   "source": [
    "! cat ./setup.sh\n",
    "! ./setup.sh"
   ]
  }
 ],
 "metadata": {
  "kernelspec": {
   "display_name": "Python 3",
   "language": "python",
   "name": "python3"
  },
  "language_info": {
   "codemirror_mode": {
    "name": "ipython",
    "version": 3
   },
   "file_extension": ".py",
   "mimetype": "text/x-python",
   "name": "python",
   "nbconvert_exporter": "python",
   "pygments_lexer": "ipython3",
   "version": "3.6.0"
  }
 },
 "nbformat": 4,
 "nbformat_minor": 2
}
